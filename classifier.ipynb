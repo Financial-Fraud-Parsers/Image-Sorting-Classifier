{
 "cells": [
  {
   "cell_type": "markdown",
   "id": "b5f98093-f912-4631-b572-16ba9e890d60",
   "metadata": {},
   "source": [
    "#### My root directory"
   ]
  },
  {
   "cell_type": "code",
   "execution_count": null,
   "id": "9605cef8-58ff-4730-a9cf-402b785edda1",
   "metadata": {},
   "outputs": [],
   "source": [
    "os.chdir('/home/users/nkankanala1/')"
   ]
  },
  {
   "cell_type": "code",
   "execution_count": null,
   "id": "5bcd61c0-79a3-4490-9621-3dbd579159f8",
   "metadata": {},
   "outputs": [],
   "source": [
    "os.getcwd()"
   ]
  },
  {
   "cell_type": "code",
   "execution_count": null,
   "id": "1e050428-c349-41c9-b0ff-8b8853ef736b",
   "metadata": {},
   "outputs": [],
   "source": [
    "ls"
   ]
  },
  {
   "cell_type": "markdown",
   "id": "-VMwtpCeGgmN",
   "metadata": {
    "id": "-VMwtpCeGgmN"
   },
   "source": [
    "# Imports"
   ]
  },
  {
   "cell_type": "code",
   "execution_count": null,
   "id": "17bf593c",
   "metadata": {
    "id": "17bf593c",
    "tags": []
   },
   "outputs": [],
   "source": [
    "\n",
    "import numpy as np\n",
    "import pandas as pd\n",
    "\n",
    "\n",
    "import os\n",
    "import zipfile\n",
    "\n",
    "from matplotlib import pyplot as plt\n",
    "import cv2\n",
    "import random\n",
    "import tensorflow as tf \n",
    "\n",
    "import keras\n",
    "from keras.models import Model\n",
    "from keras.models import load_model\n",
    "import shutil\n"
   ]
  },
  {
   "cell_type": "markdown",
   "id": "0obY-BhJGyTn",
   "metadata": {
    "id": "0obY-BhJGyTn"
   },
   "source": [
    "# Loading data from colab"
   ]
  },
  {
   "cell_type": "markdown",
   "id": "2e8b606b-22f5-48a3-be66-aaadc82ef5d3",
   "metadata": {},
   "source": [
    "## __Change here__\n",
    "### Give the zip file name of the folder of the 5days data we recieve"
   ]
  },
  {
   "cell_type": "code",
   "execution_count": null,
   "id": "Hjxcvjs0-21s",
   "metadata": {
    "id": "Hjxcvjs0-21s",
    "tags": []
   },
   "outputs": [],
   "source": [
    "Dir_Name = 'Sep 16 - 20'"
   ]
  },
  {
   "cell_type": "markdown",
   "id": "2889b666-6a1e-46c8-acd6-b5ac2f957c35",
   "metadata": {},
   "source": [
    "## __Change here__\n",
    "### Give the root directory or root folder where you will be workin in the system"
   ]
  },
  {
   "cell_type": "code",
   "execution_count": null,
   "id": "5920a520-17bb-49c4-b272-88104a91f9c2",
   "metadata": {},
   "outputs": [],
   "source": [
    "Root_Dir = '/home/users/nkankanala1/Model Training/Data/nf/'"
   ]
  },
  {
   "cell_type": "code",
   "execution_count": null,
   "id": "05801d76-c7c6-4b5f-9a7a-38739e912d56",
   "metadata": {},
   "outputs": [],
   "source": [
    "mon = Dir_Name"
   ]
  },
  {
   "cell_type": "code",
   "execution_count": null,
   "id": "AKY53ADEGV8x",
   "metadata": {
    "colab": {
     "base_uri": "https://localhost:8080/"
    },
    "id": "AKY53ADEGV8x",
    "outputId": "1658f27c-649f-44b7-b09c-88866c02142b",
    "tags": []
   },
   "outputs": [],
   "source": [
    "#os.chdir('/home/users/nkankanala1/Model Training/Data/nf/'+mon)"
   ]
  },
  {
   "cell_type": "code",
   "execution_count": null,
   "id": "7IWt_QMMrhoo",
   "metadata": {
    "colab": {
     "base_uri": "https://localhost:8080/"
    },
    "id": "7IWt_QMMrhoo",
    "outputId": "93292934-69a6-4a92-b804-bd5009cbf5b2",
    "tags": []
   },
   "outputs": [],
   "source": [
    "#print(os.getcwd())"
   ]
  },
  {
   "cell_type": "markdown",
   "id": "_5-KsGFSG3wP",
   "metadata": {
    "id": "_5-KsGFSG3wP"
   },
   "source": [
    "loading model"
   ]
  },
  {
   "cell_type": "code",
   "execution_count": null,
   "id": "7da78cb3-6451-4bd7-b23c-f6b63ba36695",
   "metadata": {
    "tags": []
   },
   "outputs": [],
   "source": [
    "#print(os.listdir(\"/home/users/nkankanala1/Model Training/Data/nf/\"+mon))\n"
   ]
  },
  {
   "cell_type": "code",
   "execution_count": null,
   "id": "BiOGxGvf7lmZ",
   "metadata": {
    "id": "BiOGxGvf7lmZ"
   },
   "outputs": [],
   "source": [
    "#!unzip '/Model Training/Code/ModelForClassifier/CNN.model4.zip'\n",
    "'''#zipping  model\n",
    "import zipfile\n",
    "with zipfile.ZipFile('/home/users/nkankanala1/Model Training/Code/ModelForClassifier/CNN.model4.zip', 'r') as zip_ref:\n",
    "    zip_ref.extractall('/home/users/nkankanala1/Model Training/Code/ModelForClassifier')'''"
   ]
  },
  {
   "cell_type": "code",
   "execution_count": null,
   "id": "e1d463d6-1def-4969-b510-1dab4f37ec3e",
   "metadata": {},
   "outputs": [],
   "source": [
    "### Give the "
   ]
  },
  {
   "cell_type": "markdown",
   "id": "b7283434-f345-4b65-b45d-486faebfa3c7",
   "metadata": {},
   "source": [
    "\n",
    "## __Change here__\n",
    "#### Change the path to where the 25mb model folder is  "
   ]
  },
  {
   "cell_type": "code",
   "execution_count": null,
   "id": "16Ry0aWxdWvi",
   "metadata": {
    "id": "16Ry0aWxdWvi",
    "tags": []
   },
   "outputs": [],
   "source": [
    "new_model = tf.keras.models.load_model('/home/users/nkankanala1/Model Training/Code/ModelForClassifier/CNN.model4')\n"
   ]
  },
  {
   "cell_type": "code",
   "execution_count": null,
   "id": "fCUR_k0eo6ue",
   "metadata": {
    "id": "fCUR_k0eo6ue",
    "tags": []
   },
   "outputs": [],
   "source": [
    "os.mkdir(Root_Dir+mon)"
   ]
  },
  {
   "cell_type": "code",
   "execution_count": null,
   "id": "XH_xdlhs-28Q",
   "metadata": {
    "id": "XH_xdlhs-28Q",
    "tags": []
   },
   "outputs": [],
   "source": [
    "os.chdir(Root_Dir+mon)"
   ]
  },
  {
   "cell_type": "code",
   "execution_count": null,
   "id": "7u09meOZaWaA",
   "metadata": {
    "id": "7u09meOZaWaA",
    "tags": []
   },
   "outputs": [],
   "source": []
  },
  {
   "cell_type": "markdown",
   "id": "z9GwmbEQQOw-",
   "metadata": {
    "id": "z9GwmbEQQOw-"
   },
   "source": [
    "# Classification\n"
   ]
  },
  {
   "cell_type": "markdown",
   "id": "Gbb6JsEwSRJd",
   "metadata": {
    "id": "Gbb6JsEwSRJd"
   },
   "source": [
    "unziping to be classified images\n",
    "\n"
   ]
  },
  {
   "cell_type": "code",
   "execution_count": null,
   "id": "jXBSOWRcVtv7",
   "metadata": {
    "colab": {
     "base_uri": "https://localhost:8080/"
    },
    "id": "jXBSOWRcVtv7",
    "outputId": "b94ee9f0-3977-407b-86f7-d30478f7f5ab",
    "tags": []
   },
   "outputs": [],
   "source": [
    "with zipfile.ZipFile(Root_Dir+Dir_Name+'.zip', 'r') as zip_ref:\n",
    "    zip_ref.extractall(Root_Dir+mon)\n",
    "\n"
   ]
  },
  {
   "cell_type": "code",
   "execution_count": null,
   "id": "7529dcf6-bd81-45f2-951e-1336ecd0348f",
   "metadata": {
    "jupyter": {
     "source_hidden": true
    },
    "tags": []
   },
   "outputs": [],
   "source": [
    "print(os.listdir(\"/home/users/nkankanala1/Model Training/Data/nf/\"+mon+\"/\"+Dir_Name))"
   ]
  },
  {
   "cell_type": "code",
   "execution_count": null,
   "id": "abtr9weZy2o8",
   "metadata": {
    "id": "abtr9weZy2o8",
    "tags": []
   },
   "outputs": [],
   "source": [
    "#os.mkdir(Dir_Name)"
   ]
  },
  {
   "cell_type": "markdown",
   "id": "MkKreoC1SXzE",
   "metadata": {
    "id": "MkKreoC1SXzE"
   },
   "source": [
    "getting a dictionary of folders and their respective image names as key value pairs"
   ]
  },
  {
   "cell_type": "code",
   "execution_count": null,
   "id": "pHqWfY8vg2rb",
   "metadata": {
    "colab": {
     "base_uri": "https://localhost:8080/"
    },
    "id": "pHqWfY8vg2rb",
    "jupyter": {
     "source_hidden": true
    },
    "outputId": "ee0a46ec-1abc-48d7-f632-f1fca6315774",
    "scrolled": true,
    "tags": []
   },
   "outputs": [],
   "source": [
    "folder_filenames_dict = {}\n",
    "\n",
    "for i, [dirpath, dirnames, filenames] in enumerate(os.walk(\"/home/users/nkankanala1/Model Training/Data/nf/\"+mon+\"/\"+Dir_Name)):\n",
    "    splitDirNameList = dirpath.split('/')\n",
    "    if i==0:\n",
    "        root_folder_name = dirpath\n",
    "        telegramChannelsNames = dirnames\n",
    "    elif i == 2:\n",
    "        key = splitDirNameList[-2]\n",
    "        value = [ i for i in filenames if('.ini' != os.path.splitext(i)[1])]\n",
    "        folder_filenames_dict.update({key:[len(value) ,value]})\n",
    "    elif(splitDirNameList[-1] == \"photos\"):\n",
    "        key = splitDirNameList[-2]\n",
    "        value = filenames\n",
    "        folder_filenames_dict.update({key:[len(filenames) ,value]})\n",
    "#del folder_filenames_dict['January 1st - 18th']\n",
    "folder_filenames_dict"
   ]
  },
  {
   "cell_type": "code",
   "execution_count": null,
   "id": "19295c20-bb1a-4493-bdca-59649caf1fa2",
   "metadata": {},
   "outputs": [],
   "source": []
  },
  {
   "cell_type": "code",
   "execution_count": null,
   "id": "445976ed-5924-48d7-ab03-4b66a261af4b",
   "metadata": {},
   "outputs": [],
   "source": []
  },
  {
   "cell_type": "code",
   "execution_count": null,
   "id": "f6ce9378-92e6-4c22-b036-eb4bac4eb7a9",
   "metadata": {},
   "outputs": [],
   "source": []
  },
  {
   "cell_type": "code",
   "execution_count": null,
   "id": "d4040442-001e-4572-882a-612168b7a2b0",
   "metadata": {},
   "outputs": [],
   "source": []
  },
  {
   "cell_type": "code",
   "execution_count": null,
   "id": "_iQmHNloJVkn",
   "metadata": {
    "colab": {
     "base_uri": "https://localhost:8080/",
     "height": 36
    },
    "id": "_iQmHNloJVkn",
    "outputId": "524bf92f-ec9d-4360-e10a-a1f19f9b3781",
    "tags": []
   },
   "outputs": [],
   "source": [
    "os.getcwd()"
   ]
  },
  {
   "cell_type": "markdown",
   "id": "gnIr6ns4SjL9",
   "metadata": {
    "id": "gnIr6ns4SjL9"
   },
   "source": [
    "predicting sample image"
   ]
  },
  {
   "cell_type": "code",
   "execution_count": null,
   "id": "Wg0qxoZWbe6X",
   "metadata": {
    "id": "Wg0qxoZWbe6X",
    "tags": []
   },
   "outputs": [],
   "source": [
    "\n",
    "import cv2\n",
    "import tensorflow as tf\n",
    "def prepare(filepath):\n",
    "    Img_size = 50\n",
    "    img_array = cv2.imread(filepath, cv2.IMREAD_GRAYSCALE)\n",
    "    new_array = cv2.resize(img_array,(Img_size,Img_size))\n",
    "    new_array=new_array/255.0\n",
    "    print(new_array)\n",
    "    return new_array.reshape(-1, Img_size, Img_size, 1)\n"
   ]
  },
  {
   "cell_type": "markdown",
   "id": "aVINzkCISpFf",
   "metadata": {
    "id": "aVINzkCISpFf"
   },
   "source": [
    "preparing file paths for the images to be predicted"
   ]
  },
  {
   "cell_type": "code",
   "execution_count": null,
   "id": "_gLN3-5cI_-u",
   "metadata": {
    "colab": {
     "base_uri": "https://localhost:8080/"
    },
    "id": "_gLN3-5cI_-u",
    "outputId": "e15c92a2-6c8a-4c77-b8ac-e7c819da8283",
    "scrolled": true,
    "tags": []
   },
   "outputs": [],
   "source": [
    "pred_class_list = []\n",
    "original_class_list = []\n",
    "c=0\n",
    "photos='photos'\n",
    "February_1_5 = []\n",
    "for i in folder_filenames_dict:\n",
    "    for j in folder_filenames_dict[i][1]:\n",
    "        p = i+\"/\"+photos+\"/\"+j\n",
    "        February_1_5.append(p)\n",
    "print(February_1_5[1])\n",
    "\n",
    "February_1_5 = February_1_5[1:]\n",
    "February_1_5"
   ]
  },
  {
   "cell_type": "code",
   "execution_count": null,
   "id": "875f6010-0a64-47a4-8d47-9f7dfa536128",
   "metadata": {},
   "outputs": [],
   "source": [
    "#a = February_1_5.index('BANKCHECKSMONEYORDERSSLIPS/photos/photo_3518@22-05-2023_15-16-48.jpg')\n",
    "#print(a)\n",
    "#BANKCHECKSMONEYORDERSSLIPS/photos/photo_3518@22-05-2023_15-16-48.jpg\n",
    "February_1_5[1122]"
   ]
  },
  {
   "cell_type": "code",
   "execution_count": null,
   "id": "681f838f-7e3f-4166-8abf-4a835ef3149b",
   "metadata": {},
   "outputs": [],
   "source": [
    "len(February_1_5)"
   ]
  },
  {
   "cell_type": "markdown",
   "id": "m8k6tLM1SvfU",
   "metadata": {
    "id": "m8k6tLM1SvfU"
   },
   "source": [
    "writing the list of file paths to save for future references"
   ]
  },
  {
   "cell_type": "code",
   "execution_count": null,
   "id": "zSAOvF9vmQXJ",
   "metadata": {
    "id": "zSAOvF9vmQXJ",
    "tags": []
   },
   "outputs": [],
   "source": [
    "mon_d1_d2 = mon"
   ]
  },
  {
   "cell_type": "code",
   "execution_count": null,
   "id": "0LbIK0Xp_BFl",
   "metadata": {
    "id": "0LbIK0Xp_BFl",
    "tags": []
   },
   "outputs": [],
   "source": [
    "#os.chdir('/home/users/nkankanala1/Model Training/Data/nf/'+mon)\n",
    "os.chdir(Root_Dir+mon+'/'+Dir_Name)"
   ]
  },
  {
   "cell_type": "code",
   "execution_count": null,
   "id": "27LPWVbY-7mu",
   "metadata": {
    "colab": {
     "base_uri": "https://localhost:8080/",
     "height": 36
    },
    "id": "27LPWVbY-7mu",
    "outputId": "44343ce6-73b3-46d0-949e-8cfa01feb18a",
    "tags": []
   },
   "outputs": [],
   "source": [
    "os.getcwd()"
   ]
  },
  {
   "cell_type": "markdown",
   "id": "C0uc_NPZS37F",
   "metadata": {
    "id": "C0uc_NPZS37F"
   },
   "source": [
    "predicting sample image"
   ]
  },
  {
   "cell_type": "code",
   "execution_count": null,
   "id": "-NRq08ds09eS",
   "metadata": {
    "colab": {
     "base_uri": "https://localhost:8080/"
    },
    "id": "-NRq08ds09eS",
    "outputId": "adf6ffef-bf52-4bd8-9fa2-1f1fccd9fe12",
    "tags": []
   },
   "outputs": [],
   "source": [
    "print(February_1_5[0])"
   ]
  },
  {
   "cell_type": "code",
   "execution_count": null,
   "id": "b3206569-6c3c-474f-bb10-f28dbcc24b52",
   "metadata": {
    "scrolled": true,
    "tags": []
   },
   "outputs": [],
   "source": [
    "from skimage.io import imread\n",
    "from PIL import Image as ima\n",
    "im = imread(February_1_5[0])\n",
    "print(im,type(im))\n",
    "data = ima.fromarray(im)\n",
    "data"
   ]
  },
  {
   "cell_type": "code",
   "execution_count": null,
   "id": "PlNkq1bDLQPr",
   "metadata": {
    "colab": {
     "base_uri": "https://localhost:8080/"
    },
    "id": "PlNkq1bDLQPr",
    "outputId": "2034baa6-9b79-4787-d19d-ff747399b2db",
    "tags": []
   },
   "outputs": [],
   "source": [
    "pred = new_model.predict([prepare(February_1_5[0])])\n",
    "pred_class = np.argmax(pred)\n",
    "print(pred_class)"
   ]
  },
  {
   "cell_type": "code",
   "execution_count": null,
   "id": "7kLeGrCrQYnG",
   "metadata": {
    "id": "7kLeGrCrQYnG",
    "tags": []
   },
   "outputs": [],
   "source": [
    "chequesClassImages = []\n",
    "otherClassImages = []"
   ]
  },
  {
   "cell_type": "markdown",
   "id": "xlrsdBi5S8sr",
   "metadata": {
    "id": "xlrsdBi5S8sr"
   },
   "source": [
    "Prediciton"
   ]
  },
  {
   "cell_type": "code",
   "execution_count": null,
   "id": "EbftDiXVxRYv",
   "metadata": {
    "id": "EbftDiXVxRYv",
    "tags": []
   },
   "outputs": [],
   "source": [
    "from tqdm import tqdm\n"
   ]
  },
  {
   "cell_type": "code",
   "execution_count": null,
   "id": "7zPn46phLM42",
   "metadata": {
    "colab": {
     "base_uri": "https://localhost:8080/"
    },
    "id": "7zPn46phLM42",
    "outputId": "df0ee62a-d9cf-489e-d702-d20e22702ee9",
    "scrolled": true,
    "tags": []
   },
   "outputs": [],
   "source": [
    "c=0\n",
    "error_images=[]\n",
    "for i in  tqdm(February_1_5):\n",
    "    c=c+1\n",
    "    #if i.startswith('dailylogz') or i.startswith('GrubShopUSPS'):\n",
    "    #    continue\n",
    "    try:\n",
    "        pred = new_model.predict([prepare(i)])\n",
    "    except:\n",
    "        error_images.append(i)\n",
    "    pred_class = np.argmax(pred)\n",
    "    #print(pred_class)\n",
    "    #print(i)\n",
    "    #print(c)\n",
    "\n",
    "    if(pred_class == 0):\n",
    "        chequesClassImages.append(i)\n",
    "    else:\n",
    "        otherClassImages.append(i)\n"
   ]
  },
  {
   "cell_type": "code",
   "execution_count": null,
   "id": "873acf3b-b187-488c-a2c7-210c5d4f240a",
   "metadata": {
    "jupyter": {
     "source_hidden": true
    },
    "tags": []
   },
   "outputs": [],
   "source": [
    "error_images"
   ]
  },
  {
   "cell_type": "code",
   "execution_count": null,
   "id": "f1bf91cd-6ad7-44a0-8048-07f8314014cb",
   "metadata": {
    "jupyter": {
     "source_hidden": true
    },
    "tags": []
   },
   "outputs": [],
   "source": [
    "print(c)\n",
    "print(i)"
   ]
  },
  {
   "cell_type": "code",
   "execution_count": null,
   "id": "ri0ilbP4QYnG",
   "metadata": {
    "colab": {
     "base_uri": "https://localhost:8080/"
    },
    "id": "ri0ilbP4QYnG",
    "outputId": "c6d08434-0995-4e69-b1aa-818f56f8d96e",
    "tags": []
   },
   "outputs": [],
   "source": [
    "print(len(chequesClassImages))\n",
    "print(len(otherClassImages))"
   ]
  },
  {
   "cell_type": "markdown",
   "id": "c9UIPyiiTDFU",
   "metadata": {
    "id": "c9UIPyiiTDFU"
   },
   "source": [
    "writing the lists to two files for future references"
   ]
  },
  {
   "cell_type": "code",
   "execution_count": null,
   "id": "ttoo4rqhiscu",
   "metadata": {
    "id": "ttoo4rqhiscu",
    "tags": []
   },
   "outputs": [],
   "source": []
  },
  {
   "cell_type": "code",
   "execution_count": null,
   "id": "p7qczpVbUqL8",
   "metadata": {
    "id": "p7qczpVbUqL8",
    "tags": []
   },
   "outputs": [],
   "source": [
    "OCI = mon_d1_d2+'_otherClassImages.txt'\n",
    "file = open(OCI,'w')\n",
    "for i in otherClassImages:\n",
    "    file.write(i+\"\\n\")\n",
    "file.close()\n"
   ]
  },
  {
   "cell_type": "code",
   "execution_count": null,
   "id": "sdDt2iD3UqU_",
   "metadata": {
    "id": "sdDt2iD3UqU_",
    "tags": []
   },
   "outputs": [],
   "source": [
    "CCI = mon_d1_d2+'_chequesClassImages.txt'\n",
    "\n",
    "file = open(CCI,'w')\n",
    "for i in chequesClassImages:\n",
    "    file.write(i+\"\\n\")\n",
    "file.close()\n"
   ]
  },
  {
   "cell_type": "markdown",
   "id": "Zw1BghcyTKaY",
   "metadata": {
    "id": "Zw1BghcyTKaY"
   },
   "source": [
    "remove is not working because of file permissions"
   ]
  },
  {
   "cell_type": "markdown",
   "id": "TBQew3TQHBo9",
   "metadata": {
    "id": "TBQew3TQHBo9"
   },
   "source": [
    "# data preperation"
   ]
  },
  {
   "cell_type": "code",
   "execution_count": null,
   "id": "aPuH5H6eMJDg",
   "metadata": {
    "id": "aPuH5H6eMJDg",
    "jupyter": {
     "source_hidden": true
    },
    "tags": []
   },
   "outputs": [],
   "source": [
    "chequesClassImages = []\n",
    "otherClassImages = []\n"
   ]
  },
  {
   "cell_type": "code",
   "execution_count": null,
   "id": "dffdcc88",
   "metadata": {
    "id": "dffdcc88",
    "tags": []
   },
   "outputs": [],
   "source": [
    "# read data from file into list\n",
    "with open(CCI, 'r') as file:\n",
    "    chequesClassImages = [line.strip() for line in file]\n",
    "\n",
    "#print(chequesClassImages)"
   ]
  },
  {
   "cell_type": "code",
   "execution_count": null,
   "id": "a213fae5",
   "metadata": {
    "id": "a213fae5",
    "tags": []
   },
   "outputs": [],
   "source": [
    "# read data from file into list\n",
    "with open(OCI, 'r') as file:\n",
    "    otherClassImages = [line.strip() for line in file]\n",
    "\n",
    "#print(otherClassImages)"
   ]
  },
  {
   "cell_type": "code",
   "execution_count": null,
   "id": "H8oFWjt8QfZN",
   "metadata": {
    "colab": {
     "base_uri": "https://localhost:8080/"
    },
    "id": "H8oFWjt8QfZN",
    "outputId": "e8359546-8021-4b2b-f4a1-2a041eea6ec3",
    "tags": []
   },
   "outputs": [],
   "source": [
    "print(len(chequesClassImages))\n",
    "print(len(otherClassImages))"
   ]
  },
  {
   "cell_type": "code",
   "execution_count": null,
   "id": "6d367b55",
   "metadata": {
    "id": "6d367b55",
    "tags": []
   },
   "outputs": [],
   "source": [
    "# read data from file into list\n",
    "'''\n",
    "mon_d1_d2_txt = mon_d1_d2+'.txt'\n",
    "with open(mon_d1_d2_txt, 'r') as file:\n",
    "    February_1_5 = [line.strip() for line in file]\n",
    "\n",
    "#print(January_27th_31st_img)\n",
    "'''"
   ]
  },
  {
   "cell_type": "code",
   "execution_count": null,
   "id": "1qZBllyyfPHh",
   "metadata": {
    "colab": {
     "base_uri": "https://localhost:8080/"
    },
    "id": "1qZBllyyfPHh",
    "outputId": "86a65c4f-531d-46bb-f7db-740143143519",
    "tags": []
   },
   "outputs": [],
   "source": [
    "len(February_1_5)"
   ]
  },
  {
   "cell_type": "markdown",
   "id": "KkTXs3W3HIk_",
   "metadata": {
    "id": "KkTXs3W3HIk_"
   },
   "source": [
    "\n",
    "\n",
    "# copying data from original to respective classes"
   ]
  },
  {
   "cell_type": "code",
   "execution_count": null,
   "id": "-Q8zQakzvTat",
   "metadata": {
    "id": "-Q8zQakzvTat",
    "tags": []
   },
   "outputs": [],
   "source": [
    "os.chdir(Root_Dir+mon+'/')"
   ]
  },
  {
   "cell_type": "code",
   "execution_count": null,
   "id": "_dpNaFCHu1ft",
   "metadata": {
    "id": "_dpNaFCHu1ft",
    "tags": []
   },
   "outputs": [],
   "source": [
    "chequesFolder = mon_d1_d2 + '_chequesClassified'\n",
    "os.mkdir(chequesFolder)"
   ]
  },
  {
   "cell_type": "code",
   "execution_count": null,
   "id": "ZAxsqTujffo6",
   "metadata": {
    "colab": {
     "base_uri": "https://localhost:8080/",
     "height": 36
    },
    "id": "ZAxsqTujffo6",
    "outputId": "43deb8c9-2fe9-404e-cd0e-7f53783287eb",
    "tags": []
   },
   "outputs": [],
   "source": [
    "chequesClassImages[0]"
   ]
  },
  {
   "cell_type": "code",
   "execution_count": null,
   "id": "gwd0GLG0vtBK",
   "metadata": {
    "colab": {
     "base_uri": "https://localhost:8080/",
     "height": 36
    },
    "id": "gwd0GLG0vtBK",
    "outputId": "4dccc8c9-0f72-479f-a726-c98a8186142a",
    "tags": []
   },
   "outputs": [],
   "source": [
    "Dir_Name"
   ]
  },
  {
   "cell_type": "code",
   "execution_count": null,
   "id": "EnBqYyuH3Haz",
   "metadata": {
    "colab": {
     "base_uri": "https://localhost:8080/"
    },
    "id": "EnBqYyuH3Haz",
    "outputId": "ca6c8a1a-1788-446b-902c-4aa7a4fefd17",
    "tags": []
   },
   "outputs": [],
   "source": [
    "len(chequesClassImages)"
   ]
  },
  {
   "cell_type": "code",
   "execution_count": null,
   "id": "N15ph11KALaP",
   "metadata": {
    "id": "N15ph11KALaP",
    "tags": []
   },
   "outputs": [],
   "source": [
    "'''os.mkdir('/home/users/nkankanala1/Model Training/Data/nf/'+mon+'/'+chequesFolder)'''"
   ]
  },
  {
   "cell_type": "code",
   "execution_count": null,
   "id": "ZLTt9Acrscm6",
   "metadata": {
    "id": "ZLTt9Acrscm6",
    "tags": []
   },
   "outputs": [],
   "source": [
    "February_1_5_deleted_list_cheques = []\n",
    "for i in chequesClassImages:\n",
    "    if i not in February_1_5_deleted_list_cheques:\n",
    "        source = Root_Dir+mon+'/'+Dir_Name+'/'+i\n",
    "        destination = Root_Dir+mon+'/'+chequesFolder\n",
    "        shutil.copy2(source, destination)\n",
    "        February_1_5_deleted_list_cheques.append(i)"
   ]
  },
  {
   "cell_type": "code",
   "execution_count": null,
   "id": "J8Et2soSTIzS",
   "metadata": {
    "id": "J8Et2soSTIzS",
    "tags": []
   },
   "outputs": [],
   "source": [
    "delCheques = mon_d1_d2 + '_deleted_list_cheques.txt'\n",
    "file = open(delCheques,'w')\n",
    "for i in February_1_5_deleted_list_cheques:\n",
    "\tfile.write(i+\"\\n\")\n",
    "file.close()\n"
   ]
  },
  {
   "cell_type": "code",
   "execution_count": null,
   "id": "XvllDdudPQDc",
   "metadata": {
    "colab": {
     "base_uri": "https://localhost:8080/"
    },
    "id": "XvllDdudPQDc",
    "outputId": "f23a2bfa-fbd1-4f9d-883e-5b97fd237cb1",
    "tags": []
   },
   "outputs": [],
   "source": [
    "seen = set()\n",
    "dupes = []\n",
    "\n",
    "for x in chequesClassImages:\n",
    "    if x in seen:\n",
    "        dupes.append(x)\n",
    "    else:\n",
    "        seen.add(x)\n",
    "len(dupes)"
   ]
  },
  {
   "cell_type": "code",
   "execution_count": null,
   "id": "05e963be-9bfa-4f97-aade-961d5bf3e50e",
   "metadata": {},
   "outputs": [],
   "source": [
    "chequesClassImages[0].split('/')[2]\n",
    "check_chequesList = []\n",
    "for c in chequesClassImages:\n",
    "    check_chequesList.append(c.split('/')[2])\n",
    "check_chequesList"
   ]
  },
  {
   "cell_type": "code",
   "execution_count": null,
   "id": "6SPYcLpbNsoX",
   "metadata": {
    "colab": {
     "base_uri": "https://localhost:8080/"
    },
    "id": "6SPYcLpbNsoX",
    "outputId": "3c8db3d9-e871-432c-f5aa-e3a392cc922e",
    "tags": []
   },
   "outputs": [],
   "source": [
    "print('no. of copied images',len(February_1_5_deleted_list_cheques))\n",
    "print('no. of cheque class images',len(chequesClassImages))"
   ]
  },
  {
   "cell_type": "code",
   "execution_count": null,
   "id": "cF_4oJvZOdp8",
   "metadata": {
    "colab": {
     "base_uri": "https://localhost:8080/"
    },
    "id": "cF_4oJvZOdp8",
    "outputId": "123eac30-ed65-46cb-f905-a0eccb421e16",
    "tags": []
   },
   "outputs": [],
   "source": [
    "import collections\n",
    "\n",
    "if collections.Counter(chequesClassImages) == collections.Counter(February_1_5_deleted_list_cheques):\n",
    "    print(\"The lists are identical\")\n",
    "else:\n",
    "    print(\"The lists are not identical\")"
   ]
  },
  {
   "cell_type": "code",
   "execution_count": null,
   "id": "9e2f19b3-9390-4c39-969e-d90a0e5f861e",
   "metadata": {},
   "outputs": [],
   "source": [
    "\n",
    "path = Root_Dir+mon+'/'+chequesFolder\n",
    "dir_list = os.listdir(path)\n",
    " \n",
    "print(\"Files and directories in '\", path, \"' :\")\n",
    " \n",
    "# prints all files\n",
    "print(dir_list)"
   ]
  },
  {
   "cell_type": "code",
   "execution_count": null,
   "id": "58971824-4f7d-4287-9a9e-3d4a001e8bb2",
   "metadata": {},
   "outputs": [],
   "source": [
    "if dir_list == check_chequesList:\n",
    "    print('a')\n",
    "else:\n",
    "    print('c')"
   ]
  },
  {
   "cell_type": "code",
   "execution_count": null,
   "id": "EIgDI08cN9XI",
   "metadata": {
    "colab": {
     "base_uri": "https://localhost:8080/"
    },
    "id": "EIgDI08cN9XI",
    "outputId": "40f4ca20-7061-4270-bc42-393eea595c17",
    "tags": []
   },
   "outputs": [],
   "source": [
    "remaining_cheques = []\n",
    "for element in chequesClassImages:\n",
    "    if element not in February_1_5_deleted_list_cheques:\n",
    "        remaining_cheques.append(element)\n",
    "print(remaining_cheques)"
   ]
  },
  {
   "cell_type": "code",
   "execution_count": null,
   "id": "eab7f61c-3ad2-4bbe-900d-e7a232e24181",
   "metadata": {},
   "outputs": [],
   "source": [
    "_, _, files = next(os.walk(Root_Dir+mon+'/'+mon+'_chequesClassified'))\n",
    "file_count = len(files)\n",
    "print(file_count)\n",
    "#Model Training/Data/nf/july 1 - 7/july 1 - 7_chequesClassified"
   ]
  },
  {
   "cell_type": "code",
   "execution_count": null,
   "id": "b3d4d02a-cf47-4b6c-ac42-49625f38c6b0",
   "metadata": {},
   "outputs": [],
   "source": [
    "os.getcwd()"
   ]
  },
  {
   "cell_type": "code",
   "execution_count": null,
   "id": "2d10bb40-f830-4477-bf9e-a0a4a91f2fad",
   "metadata": {},
   "outputs": [],
   "source": [
    "\n",
    "source_cheques_classified = destination"
   ]
  },
  {
   "cell_type": "code",
   "execution_count": null,
   "id": "ffbf7365-662c-46f2-a775-65756c86dc17",
   "metadata": {},
   "outputs": [],
   "source": [
    "shutil.make_archive(Root_Dir+mon+'__'+chequesFolder,\"zip\",source_cheques_classified)"
   ]
  },
  {
   "cell_type": "code",
   "execution_count": null,
   "id": "hfqaDu0dwLvb",
   "metadata": {
    "id": "hfqaDu0dwLvb",
    "tags": []
   },
   "outputs": [],
   "source": [
    "othersFolder = mon_d1_d2+'_othersClassifieds'\n",
    "os.mkdir(othersFolder)"
   ]
  },
  {
   "cell_type": "code",
   "execution_count": null,
   "id": "BFHx5QUQwPVC",
   "metadata": {
    "id": "BFHx5QUQwPVC",
    "tags": []
   },
   "outputs": [],
   "source": [
    "'''os.mkdir('/home/users/nkankanala1/Model Training/Data/nf/'+mon+'/'+othersFolder)'''"
   ]
  },
  {
   "cell_type": "code",
   "execution_count": null,
   "id": "dpGR4V22Rmfy",
   "metadata": {
    "id": "dpGR4V22Rmfy",
    "tags": []
   },
   "outputs": [],
   "source": [
    "February_1_5_deleted_list_other = []\n",
    "for i in otherClassImages:\n",
    "        if i not in February_1_5_deleted_list_other:\n",
    "            if i.startswith('DragonBallF4ear'):\n",
    "                continue\n",
    "            source = Root_Dir+mon+'/'+Dir_Name+'/'+i\n",
    "            destination = Root_Dir+mon+'/'+othersFolder\n",
    "            shutil.copy2(source, destination)\n",
    "            February_1_5_deleted_list_other.append(i)    \n",
    "        "
   ]
  },
  {
   "cell_type": "code",
   "execution_count": null,
   "id": "sr3UZjXOj2Go",
   "metadata": {
    "colab": {
     "base_uri": "https://localhost:8080/"
    },
    "id": "sr3UZjXOj2Go",
    "outputId": "763cf415-8fd3-47e4-97f1-8fb6062dd11b",
    "tags": []
   },
   "outputs": [],
   "source": [
    "len(February_1_5_deleted_list_other)"
   ]
  },
  {
   "cell_type": "code",
   "execution_count": null,
   "id": "gSfmvI8fSxTv",
   "metadata": {
    "id": "gSfmvI8fSxTv",
    "tags": []
   },
   "outputs": [],
   "source": [
    "delOthers = mon_d1_d2 = '_deleted_list_other.txt'\n",
    "file = open(delOthers,'w')\n",
    "for i in February_1_5_deleted_list_other:\n",
    "\tfile.write(i+\"\\n\")\n",
    "file.close()\n"
   ]
  },
  {
   "cell_type": "code",
   "execution_count": null,
   "id": "kELA_pXzOMS1",
   "metadata": {
    "colab": {
     "base_uri": "https://localhost:8080/"
    },
    "id": "kELA_pXzOMS1",
    "outputId": "c39cbd3b-cf58-45d7-b351-378cbc613036",
    "tags": []
   },
   "outputs": [],
   "source": [
    "print('no. of copied images',len(February_1_5_deleted_list_other))\n",
    "print('no. of other class images',len(otherClassImages))"
   ]
  },
  {
   "cell_type": "code",
   "execution_count": null,
   "id": "2nJhLqR1PZOw",
   "metadata": {
    "colab": {
     "base_uri": "https://localhost:8080/"
    },
    "id": "2nJhLqR1PZOw",
    "outputId": "299a1360-ae03-47c4-c5dc-bc40238f5c4b",
    "tags": []
   },
   "outputs": [],
   "source": [
    "seen = set()\n",
    "dupes = []\n",
    "\n",
    "for x in otherClassImages:\n",
    "    if x in seen:\n",
    "        dupes.append(x)\n",
    "    else:\n",
    "        seen.add(x)\n",
    "print('no. of duplicates',len(dupes))"
   ]
  },
  {
   "cell_type": "code",
   "execution_count": null,
   "id": "8e4fb8a9-8fd7-4554-8a73-98a323404e43",
   "metadata": {},
   "outputs": [],
   "source": [
    "_, _, files = next(os.walk(Root_Dir+mon+'/'+othersFolder))\n",
    "file_count = len(files)\n",
    "print(file_count)"
   ]
  },
  {
   "cell_type": "code",
   "execution_count": null,
   "id": "a99a82b5-c86a-4171-85e5-2e65695c2a2a",
   "metadata": {},
   "outputs": [],
   "source": [
    "\n",
    "source_others_classified = destination"
   ]
  },
  {
   "cell_type": "code",
   "execution_count": null,
   "id": "24b968b5-0128-4223-bfed-10f9cfcb769c",
   "metadata": {},
   "outputs": [],
   "source": [
    "\n",
    "shutil.make_archive(Root_Dir+mon+'__'+othersFolder,\"zip\",source_others_classified)"
   ]
  }
 ],
 "metadata": {
  "accelerator": "GPU",
  "colab": {
   "collapsed_sections": [
    "-VMwtpCeGgmN"
   ],
   "provenance": []
  },
  "gpuClass": "standard",
  "kernelspec": {
   "display_name": "myVenv1",
   "language": "python",
   "name": "myvenv1"
  },
  "language_info": {
   "codemirror_mode": {
    "name": "ipython",
    "version": 3
   },
   "file_extension": ".py",
   "mimetype": "text/x-python",
   "name": "python",
   "nbconvert_exporter": "python",
   "pygments_lexer": "ipython3",
   "version": "3.9.9"
  }
 },
 "nbformat": 4,
 "nbformat_minor": 5
}
